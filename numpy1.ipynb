{
 "cells": [
  {
   "cell_type": "code",
   "execution_count": 1,
   "id": "89eb94f3-7b9c-4ff0-af73-dbcc324f370b",
   "metadata": {},
   "outputs": [],
   "source": [
    "import numpy as np"
   ]
  },
  {
   "cell_type": "code",
   "execution_count": 2,
   "id": "60280a86-1229-43e8-a235-fec7230e46ae",
   "metadata": {},
   "outputs": [],
   "source": [
    "myarray=np.array([1,2,3,4,5],np.int64)"
   ]
  },
  {
   "cell_type": "code",
   "execution_count": 3,
   "id": "66666ae0-f015-4884-89ad-afbbf750e8a0",
   "metadata": {},
   "outputs": [
    {
     "data": {
      "text/plain": [
       "array([1, 2, 3, 4, 5], dtype=int64)"
      ]
     },
     "execution_count": 3,
     "metadata": {},
     "output_type": "execute_result"
    }
   ],
   "source": [
    "myarray"
   ]
  },
  {
   "cell_type": "code",
   "execution_count": 4,
   "id": "a5306c02-6b11-41ec-8184-2d2d2537bc0c",
   "metadata": {},
   "outputs": [
    {
     "data": {
      "text/plain": [
       "1"
      ]
     },
     "execution_count": 4,
     "metadata": {},
     "output_type": "execute_result"
    }
   ],
   "source": [
    "myarray[0]"
   ]
  },
  {
   "cell_type": "code",
   "execution_count": 5,
   "id": "40207d5d-97d0-4b87-8b71-9c709327bb76",
   "metadata": {},
   "outputs": [],
   "source": [
    "array=np.array([[9,8,7,6]])"
   ]
  },
  {
   "cell_type": "code",
   "execution_count": 6,
   "id": "9f32e858-9501-4c6d-aca0-93f0af9ca742",
   "metadata": {},
   "outputs": [
    {
     "data": {
      "text/plain": [
       "8"
      ]
     },
     "execution_count": 6,
     "metadata": {},
     "output_type": "execute_result"
    }
   ],
   "source": [
    "array[0,1]"
   ]
  },
  {
   "cell_type": "code",
   "execution_count": 7,
   "id": "4f264c20-436a-4fab-b117-e210d910105e",
   "metadata": {},
   "outputs": [
    {
     "data": {
      "text/plain": [
       "(5,)"
      ]
     },
     "execution_count": 7,
     "metadata": {},
     "output_type": "execute_result"
    }
   ],
   "source": [
    "myarray.shape"
   ]
  },
  {
   "cell_type": "code",
   "execution_count": 8,
   "id": "eaea4cdb-03af-4398-94a2-a22b5f0bfe24",
   "metadata": {},
   "outputs": [
    {
     "data": {
      "text/plain": [
       "dtype('int64')"
      ]
     },
     "execution_count": 8,
     "metadata": {},
     "output_type": "execute_result"
    }
   ],
   "source": [
    "myarray.dtype"
   ]
  },
  {
   "cell_type": "markdown",
   "id": "c796cbb9-e4a6-491c-9509-298fb482b02f",
   "metadata": {},
   "source": [
    "**array creation methods**"
   ]
  },
  {
   "cell_type": "code",
   "execution_count": 9,
   "id": "3057a492-a2c5-4f5b-ae7f-61134abf561b",
   "metadata": {},
   "outputs": [
    {
     "name": "stdout",
     "output_type": "stream",
     "text": [
      "[1 2 3 4 5]\n",
      "[[1 2 3]\n",
      " [5 6 7]]\n",
      "(5,)\n",
      "5\n"
     ]
    }
   ],
   "source": [
    "#1)Conversion from other Python structures(like lists,tuples..)\n",
    "list=np.array([1,2,3,4,5])\n",
    "print(list)\n",
    "l=np.array([[1,2,3],[5,6,7]])\n",
    "print(l)\n",
    "print(list.shape)\n",
    "print(list.size)"
   ]
  },
  {
   "cell_type": "code",
   "execution_count": 10,
   "id": "b4dd2ec3-0da2-4164-9741-2b548e3c4279",
   "metadata": {},
   "outputs": [
    {
     "name": "stdout",
     "output_type": "stream",
     "text": [
      "[[0. 0. 0. 0. 0.]\n",
      " [0. 0. 0. 0. 0.]]\n",
      "float64\n",
      "(2, 5)\n",
      "[0 1 2 3 4 5 6 7 8 9]\n",
      "int32\n",
      "(10,)\n",
      "[1.         1.36363636 1.72727273 2.09090909 2.45454545 2.81818182\n",
      " 3.18181818 3.54545455 3.90909091 4.27272727 4.63636364 5.        ]\n",
      "[[6.23042070e-307 4.67296746e-307 1.69121096e-306 1.39071275e-307\n",
      "  1.89146896e-307 7.56571288e-307]\n",
      " [3.11525958e-307 1.24610723e-306 1.37962320e-306 1.29060871e-306\n",
      "  2.22518251e-306 1.33511969e-306]\n",
      " [1.78022342e-306 1.05700345e-307 3.11525958e-307 1.69118108e-306\n",
      "  8.06632139e-308 1.20160711e-306]\n",
      " [1.69119330e-306 1.29062229e-306 1.42417222e-306 1.33512648e-306\n",
      "  7.56596412e-307 2.22522596e-306]]\n",
      "[1.         1.36363636 1.72727273 2.09090909 2.45454545 2.81818182\n",
      " 3.18181818 3.54545455 3.90909091 4.27272727 4.63636364 5.        ]\n",
      "[[1. 0. 0. 0.]\n",
      " [0. 1. 0. 0.]\n",
      " [0. 0. 1. 0.]\n",
      " [0. 0. 0. 1.]]\n",
      "(4, 4)\n"
     ]
    }
   ],
   "source": [
    "#2)Intrinsic numpy array creation objects(eg:arange,ones,zeroes or etc..)\n",
    "#i)USING ZEROS\n",
    "zeros=np.zeros((2,5))#take this as rows and columns\n",
    "print(zeros)\n",
    "print(zeros.dtype)\n",
    "print(zeros.shape)\n",
    "#ii)USING ARANGE\n",
    "r=np.arange(10)\n",
    "print(r)#it will print an array upto the given range-1\n",
    "print(r.dtype)\n",
    "print(r.shape)\n",
    "#iii)USING LINSPACE\n",
    "lspace=np.linspace(1,5,12)\n",
    "print(lspace)#it wil print equally spaced elemnts from 1 to 5 in 12 parts\n",
    "#iv)USING EMPTY\n",
    "emp=np.empty((4,6))\n",
    "print(emp)#it will give random numbers in the form of 4 rows and 6 columns\n",
    "emplike=np.empty_like(lspace)\n",
    "print(emplike)#it will make the array empty\n",
    "#v)USING IDENTITY\n",
    "ide=np.identity(4)\n",
    "print(ide)#it gives an 4x4 identity matrix\n",
    "print(ide.shape)"
   ]
  },
  {
   "cell_type": "markdown",
   "id": "0ad84f70-5e47-4cc4-ba66-8b988801c624",
   "metadata": {},
   "source": [
    "**RESHAPING AN ARRAY**"
   ]
  },
  {
   "cell_type": "code",
   "execution_count": 11,
   "id": "baed8165-506a-4f0b-b59a-50b90e156dd8",
   "metadata": {},
   "outputs": [
    {
     "name": "stdout",
     "output_type": "stream",
     "text": [
      "[ 0  1  2  3  4  5  6  7  8  9 10 11 12 13 14 15 16 17 18 19 20 21 22 23\n",
      " 24 25 26 27 28 29 30 31 32 33 34 35 36 37 38 39 40 41 42 43 44 45 46 47\n",
      " 48 49 50 51 52 53 54 55 56 57 58 59 60 61 62 63 64 65 66 67 68 69 70 71\n",
      " 72 73 74 75 76 77 78 79 80 81 82 83 84 85 86 87 88 89 90 91 92 93 94 95\n",
      " 96 97 98]\n"
     ]
    }
   ],
   "source": [
    "arr=np.arange(99)\n",
    "print(arr)\n"
   ]
  },
  {
   "cell_type": "code",
   "execution_count": 12,
   "id": "cf0237bf-2174-4e09-8677-f0fc4abbae67",
   "metadata": {},
   "outputs": [
    {
     "name": "stdout",
     "output_type": "stream",
     "text": [
      "[[ 0  1  2  3  4  5  6  7  8  9 10 11 12 13 14 15 16 17 18 19 20 21 22 23\n",
      "  24 25 26 27 28 29 30 31 32]\n",
      " [33 34 35 36 37 38 39 40 41 42 43 44 45 46 47 48 49 50 51 52 53 54 55 56\n",
      "  57 58 59 60 61 62 63 64 65]\n",
      " [66 67 68 69 70 71 72 73 74 75 76 77 78 79 80 81 82 83 84 85 86 87 88 89\n",
      "  90 91 92 93 94 95 96 97 98]]\n"
     ]
    }
   ],
   "source": [
    "reshapedarray=arr.reshape(3,33)#it rehapes the given array into the 3 rows and 33 columns\n",
    "print(reshapedarray)"
   ]
  },
  {
   "cell_type": "code",
   "execution_count": 13,
   "id": "2db8d017-1a4c-4231-93fe-1b8a211d44d5",
   "metadata": {},
   "outputs": [
    {
     "name": "stdout",
     "output_type": "stream",
     "text": [
      "[ 0  1  2  3  4  5  6  7  8  9 10 11 12 13 14 15 16 17 18 19 20 21 22 23\n",
      " 24 25 26 27 28 29 30 31 32 33 34 35 36 37 38 39 40 41 42 43 44 45 46 47\n",
      " 48 49 50 51 52 53 54 55 56 57 58 59 60 61 62 63 64 65 66 67 68 69 70 71\n",
      " 72 73 74 75 76 77 78 79 80 81 82 83 84 85 86 87 88 89 90 91 92 93 94 95\n",
      " 96 97 98]\n"
     ]
    }
   ],
   "source": [
    "#converting the reshaped array into normal one\n",
    "#USING RAVEL\n",
    "normal=reshapedarray.ravel()\n",
    "print(normal)"
   ]
  },
  {
   "cell_type": "code",
   "execution_count": 14,
   "id": "55ea9da1-64cf-42f7-8011-21f9310d0bf0",
   "metadata": {},
   "outputs": [
    {
     "data": {
      "text/plain": [
       "(99,)"
      ]
     },
     "execution_count": 14,
     "metadata": {},
     "output_type": "execute_result"
    }
   ],
   "source": [
    "normal.shape"
   ]
  },
  {
   "cell_type": "code",
   "execution_count": 15,
   "id": "dc8f09e6-df66-4265-9508-d23d5628785a",
   "metadata": {},
   "outputs": [
    {
     "name": "stdout",
     "output_type": "stream",
     "text": [
      "[[1 2 3]\n",
      " [4 5 6]\n",
      " [7 0 1]]\n"
     ]
    }
   ],
   "source": [
    "x=[[1,2,3],[4,5,6],[7,0,1]]\n",
    "ar=np.array(x)\n",
    "print(ar)"
   ]
  },
  {
   "cell_type": "code",
   "execution_count": 16,
   "id": "01d8362a-d5a3-48fa-87fe-01c8deec2986",
   "metadata": {},
   "outputs": [
    {
     "data": {
      "text/plain": [
       "array([12,  7, 10])"
      ]
     },
     "execution_count": 16,
     "metadata": {},
     "output_type": "execute_result"
    }
   ],
   "source": [
    "ar.sum(axis=0)#span the columns and gives the sum"
   ]
  },
  {
   "cell_type": "code",
   "execution_count": 17,
   "id": "59ea6f0f-04d1-4aea-9b69-19f3731518bf",
   "metadata": {},
   "outputs": [
    {
     "data": {
      "text/plain": [
       "array([ 6, 15,  8])"
      ]
     },
     "execution_count": 17,
     "metadata": {},
     "output_type": "execute_result"
    }
   ],
   "source": [
    "ar.sum(axis=1)#span the rows and gives the sum"
   ]
  },
  {
   "cell_type": "code",
   "execution_count": 18,
   "id": "ffc6e571-b3c2-45b9-8d8e-0f4a6e4cec21",
   "metadata": {},
   "outputs": [
    {
     "data": {
      "text/plain": [
       "array([[1, 4, 7],\n",
       "       [2, 5, 0],\n",
       "       [3, 6, 1]])"
      ]
     },
     "execution_count": 18,
     "metadata": {},
     "output_type": "execute_result"
    }
   ],
   "source": [
    "ar.T#TRANSPOSE THE ARRAY"
   ]
  },
  {
   "cell_type": "code",
   "execution_count": 19,
   "id": "5b4a7f75-08fb-472a-b62c-a856d73690af",
   "metadata": {},
   "outputs": [
    {
     "data": {
      "text/plain": [
       "<numpy.flatiter at 0x26f5e4fd450>"
      ]
     },
     "execution_count": 19,
     "metadata": {},
     "output_type": "execute_result"
    }
   ],
   "source": [
    "ar.flat# by this we can make  an iterator"
   ]
  },
  {
   "cell_type": "code",
   "execution_count": 20,
   "id": "db638fe2-fc17-4a7d-9fbb-7d55a3cab96f",
   "metadata": {},
   "outputs": [
    {
     "name": "stdout",
     "output_type": "stream",
     "text": [
      "1\n",
      "2\n",
      "3\n",
      "4\n",
      "5\n",
      "6\n",
      "7\n",
      "0\n",
      "1\n"
     ]
    }
   ],
   "source": [
    "for i in ar.flat:\n",
    "    print(i)"
   ]
  },
  {
   "cell_type": "code",
   "execution_count": 21,
   "id": "29770319-3b97-472d-a31c-0e1ef9104bb7",
   "metadata": {},
   "outputs": [
    {
     "data": {
      "text/plain": [
       "2"
      ]
     },
     "execution_count": 21,
     "metadata": {},
     "output_type": "execute_result"
    }
   ],
   "source": [
    "ar.ndim#gives dimensions\n"
   ]
  },
  {
   "cell_type": "code",
   "execution_count": 22,
   "id": "db8f3fa7-6b83-4072-9fca-29c7293d35d0",
   "metadata": {},
   "outputs": [
    {
     "data": {
      "text/plain": [
       "9"
      ]
     },
     "execution_count": 22,
     "metadata": {},
     "output_type": "execute_result"
    }
   ],
   "source": [
    "ar.size#gives size\n"
   ]
  },
  {
   "cell_type": "code",
   "execution_count": 23,
   "id": "48596b04-c08f-46f3-9ee4-d3fcdb385f59",
   "metadata": {},
   "outputs": [
    {
     "data": {
      "text/plain": [
       "36"
      ]
     },
     "execution_count": 23,
     "metadata": {},
     "output_type": "execute_result"
    }
   ],
   "source": [
    "ar.nbytes#how much bytes the array is taking "
   ]
  },
  {
   "cell_type": "markdown",
   "id": "f161695a-1728-4f7f-b6fd-7880cef469c3",
   "metadata": {},
   "source": [
    "**1-D ARRAY**"
   ]
  },
  {
   "cell_type": "code",
   "execution_count": 24,
   "id": "20532981-82ad-401a-ac1c-5b1cf944992b",
   "metadata": {},
   "outputs": [
    {
     "name": "stdout",
     "output_type": "stream",
     "text": [
      "[1 2 3 4 5]\n"
     ]
    }
   ],
   "source": [
    "one=np.array([1,2,3,4,5])\n",
    "print(one)"
   ]
  },
  {
   "cell_type": "code",
   "execution_count": 25,
   "id": "0c872402-9fba-48f1-9483-4818d98dcac0",
   "metadata": {},
   "outputs": [
    {
     "data": {
      "text/plain": [
       "4"
      ]
     },
     "execution_count": 25,
     "metadata": {},
     "output_type": "execute_result"
    }
   ],
   "source": [
    "one.argmax()#gives the index of the largest element in the array"
   ]
  },
  {
   "cell_type": "code",
   "execution_count": 26,
   "id": "556e15c8-d562-4545-86be-6e7035bd9421",
   "metadata": {},
   "outputs": [
    {
     "data": {
      "text/plain": [
       "0"
      ]
     },
     "execution_count": 26,
     "metadata": {},
     "output_type": "execute_result"
    }
   ],
   "source": [
    "one.argmin()#gives the index of the smallest element in the array"
   ]
  },
  {
   "cell_type": "code",
   "execution_count": 27,
   "id": "48547ed5-8b81-47fb-bc4a-7e3abb5d817e",
   "metadata": {},
   "outputs": [
    {
     "data": {
      "text/plain": [
       "array([0, 1, 2, 3, 4], dtype=int64)"
      ]
     },
     "execution_count": 27,
     "metadata": {},
     "output_type": "execute_result"
    }
   ],
   "source": [
    "one.argsort()#sorted array of indices"
   ]
  },
  {
   "cell_type": "markdown",
   "id": "c590e937-662e-4c4b-b385-ca641ae957da",
   "metadata": {},
   "source": [
    "**2-D ARRAY**"
   ]
  },
  {
   "cell_type": "code",
   "execution_count": 28,
   "id": "3b79987b-7651-48cb-b609-38dd3a3720b5",
   "metadata": {},
   "outputs": [
    {
     "data": {
      "text/plain": [
       "array([[1, 2, 3],\n",
       "       [4, 5, 6],\n",
       "       [7, 0, 1]])"
      ]
     },
     "execution_count": 28,
     "metadata": {},
     "output_type": "execute_result"
    }
   ],
   "source": [
    "ar"
   ]
  },
  {
   "cell_type": "code",
   "execution_count": 29,
   "id": "531df77c-5819-4656-87da-b7fd6c4e8188",
   "metadata": {},
   "outputs": [
    {
     "data": {
      "text/plain": [
       "7"
      ]
     },
     "execution_count": 29,
     "metadata": {},
     "output_type": "execute_result"
    }
   ],
   "source": [
    "ar.argmin()#this will straight all the elemnts firstgives the min one by counting from 0 "
   ]
  },
  {
   "cell_type": "code",
   "execution_count": 30,
   "id": "3c4ec5a7-e88e-43b0-9d73-20538b98752f",
   "metadata": {},
   "outputs": [
    {
     "data": {
      "text/plain": [
       "6"
      ]
     },
     "execution_count": 30,
     "metadata": {},
     "output_type": "execute_result"
    }
   ],
   "source": [
    "ar.argmax()#this will straight all the elements first giving max one by counting from 0"
   ]
  },
  {
   "cell_type": "code",
   "execution_count": 31,
   "id": "45080785-262b-46e3-840b-06e7eb355e39",
   "metadata": {},
   "outputs": [
    {
     "data": {
      "text/plain": [
       "array([2, 1, 1], dtype=int64)"
      ]
     },
     "execution_count": 31,
     "metadata": {},
     "output_type": "execute_result"
    }
   ],
   "source": [
    "ar.argmax(axis=0)#from columns"
   ]
  },
  {
   "cell_type": "code",
   "execution_count": 32,
   "id": "fa7fc44a-e319-455f-80a5-8203802b7462",
   "metadata": {},
   "outputs": [
    {
     "data": {
      "text/plain": [
       "array([2, 2, 0], dtype=int64)"
      ]
     },
     "execution_count": 32,
     "metadata": {},
     "output_type": "execute_result"
    }
   ],
   "source": [
    "ar.argmax(axis=1)#from rows"
   ]
  },
  {
   "cell_type": "code",
   "execution_count": 33,
   "id": "f683f144-6791-4614-a974-a372e228ca8d",
   "metadata": {},
   "outputs": [
    {
     "data": {
      "text/plain": [
       "array([[0, 2, 2],\n",
       "       [1, 0, 0],\n",
       "       [2, 1, 1]], dtype=int64)"
      ]
     },
     "execution_count": 33,
     "metadata": {},
     "output_type": "execute_result"
    }
   ],
   "source": [
    "ar.argsort(axis=0)#gives the indices sorted at columns"
   ]
  },
  {
   "cell_type": "code",
   "execution_count": 34,
   "id": "84ce10a8-a160-44f8-8112-579b41175e22",
   "metadata": {},
   "outputs": [
    {
     "data": {
      "text/plain": [
       "array([[0, 1, 2],\n",
       "       [0, 1, 2],\n",
       "       [1, 2, 0]], dtype=int64)"
      ]
     },
     "execution_count": 34,
     "metadata": {},
     "output_type": "execute_result"
    }
   ],
   "source": [
    "ar.argsort(axis=1)#gives the indices sorted  at rows"
   ]
  },
  {
   "cell_type": "markdown",
   "id": "42df9922-86ed-484c-872a-753cee1217ca",
   "metadata": {},
   "source": [
    "**MATHEMATICAL OPERATIONS**"
   ]
  },
  {
   "cell_type": "code",
   "execution_count": 35,
   "id": "3cae1eb3-73a7-4013-85dc-f791313c2f51",
   "metadata": {},
   "outputs": [
    {
     "data": {
      "text/plain": [
       "array([[1, 2, 3],\n",
       "       [4, 5, 6],\n",
       "       [7, 0, 1]])"
      ]
     },
     "execution_count": 35,
     "metadata": {},
     "output_type": "execute_result"
    }
   ],
   "source": [
    "ar"
   ]
  },
  {
   "cell_type": "code",
   "execution_count": 36,
   "id": "33810272-2700-4531-92af-5cb593b1d629",
   "metadata": {},
   "outputs": [
    {
     "name": "stdout",
     "output_type": "stream",
     "text": [
      "[[1 4 5]\n",
      " [6 5 4]\n",
      " [9 8 7]]\n"
     ]
    }
   ],
   "source": [
    "ar2=np.array([[1,4,5],[6,5,4],[9,8,7]])\n",
    "print(ar2)"
   ]
  },
  {
   "cell_type": "code",
   "execution_count": 37,
   "id": "e31f8261-cd9a-4abc-8282-f7836ffd82f4",
   "metadata": {},
   "outputs": [
    {
     "data": {
      "text/plain": [
       "array([[ 2,  6,  8],\n",
       "       [10, 10, 10],\n",
       "       [16,  8,  8]])"
      ]
     },
     "execution_count": 37,
     "metadata": {},
     "output_type": "execute_result"
    }
   ],
   "source": [
    "ar+ar2#sums up one by one serially"
   ]
  },
  {
   "cell_type": "code",
   "execution_count": 38,
   "id": "7249591d-a702-4027-8055-f705e95ee891",
   "metadata": {},
   "outputs": [
    {
     "data": {
      "text/plain": [
       "array([[ 1,  8, 15],\n",
       "       [24, 25, 24],\n",
       "       [63,  0,  7]])"
      ]
     },
     "execution_count": 38,
     "metadata": {},
     "output_type": "execute_result"
    }
   ],
   "source": [
    "ar*ar2#multiplies one by one serially"
   ]
  },
  {
   "cell_type": "code",
   "execution_count": 39,
   "id": "7c373ded-33e8-49c6-9215-25730333b54d",
   "metadata": {},
   "outputs": [
    {
     "data": {
      "text/plain": [
       "array([[1.        , 1.41421356, 1.73205081],\n",
       "       [2.        , 2.23606798, 2.44948974],\n",
       "       [2.64575131, 0.        , 1.        ]])"
      ]
     },
     "execution_count": 39,
     "metadata": {},
     "output_type": "execute_result"
    }
   ],
   "source": [
    "np.sqrt(ar)#gives square root of element wise"
   ]
  },
  {
   "cell_type": "code",
   "execution_count": 40,
   "id": "fdea7503-d334-46bc-985b-2b5b93c0ea93",
   "metadata": {},
   "outputs": [
    {
     "data": {
      "text/plain": [
       "29"
      ]
     },
     "execution_count": 40,
     "metadata": {},
     "output_type": "execute_result"
    }
   ],
   "source": [
    "ar.sum()\n"
   ]
  },
  {
   "cell_type": "code",
   "execution_count": 41,
   "id": "d6658ea8-08bd-486d-8651-3c4466af5075",
   "metadata": {},
   "outputs": [
    {
     "data": {
      "text/plain": [
       "7"
      ]
     },
     "execution_count": 41,
     "metadata": {},
     "output_type": "execute_result"
    }
   ],
   "source": [
    "ar.max()"
   ]
  },
  {
   "cell_type": "code",
   "execution_count": 42,
   "id": "bfec5f9b-ba78-433d-bcea-f15615ef6c60",
   "metadata": {},
   "outputs": [
    {
     "data": {
      "text/plain": [
       "0"
      ]
     },
     "execution_count": 42,
     "metadata": {},
     "output_type": "execute_result"
    }
   ],
   "source": [
    "ar.min()"
   ]
  },
  {
   "cell_type": "code",
   "execution_count": 43,
   "id": "fd014da8-f434-4751-b7a3-bac6410eedf5",
   "metadata": {},
   "outputs": [
    {
     "data": {
      "text/plain": [
       "(array([1, 2], dtype=int64), array([2, 0], dtype=int64))"
      ]
     },
     "execution_count": 43,
     "metadata": {},
     "output_type": "execute_result"
    }
   ],
   "source": [
    "np.where(ar>5)"
   ]
  },
  {
   "cell_type": "code",
   "execution_count": 44,
   "id": "dfdade21-83d8-4d31-a175-995969f5f5cf",
   "metadata": {},
   "outputs": [
    {
     "data": {
      "text/plain": [
       "tuple"
      ]
     },
     "execution_count": 44,
     "metadata": {},
     "output_type": "execute_result"
    }
   ],
   "source": [
    "type(np.where(ar>5))"
   ]
  },
  {
   "cell_type": "code",
   "execution_count": 45,
   "id": "0238f4f5-4dfe-4ed7-a278-913802768816",
   "metadata": {},
   "outputs": [
    {
     "data": {
      "text/plain": [
       "8"
      ]
     },
     "execution_count": 45,
     "metadata": {},
     "output_type": "execute_result"
    }
   ],
   "source": [
    "np.count_nonzero(ar)#gives the count of the non-zero elements"
   ]
  },
  {
   "cell_type": "code",
   "execution_count": 46,
   "id": "99dff56a-5bed-4b26-8c39-f0c3d6597d49",
   "metadata": {},
   "outputs": [
    {
     "data": {
      "text/plain": [
       "(array([0, 0, 0, 1, 1, 1, 2, 2], dtype=int64),\n",
       " array([0, 1, 2, 0, 1, 2, 0, 2], dtype=int64))"
      ]
     },
     "execution_count": 46,
     "metadata": {},
     "output_type": "execute_result"
    }
   ],
   "source": [
    "np.nonzero(ar)#gives the nonzero elements in the array"
   ]
  },
  {
   "cell_type": "markdown",
   "id": "4db4ecea-562c-4fcb-8b37-bb6110a07b4b",
   "metadata": {},
   "source": [
    "**CHECKING HOW NUMPY ARRAY TAKES LESS STORAGE THAN PYTHON ARRAY**"
   ]
  },
  {
   "cell_type": "code",
   "execution_count": 47,
   "id": "320a4276-fb43-4b86-b517-ec03377d50ce",
   "metadata": {},
   "outputs": [],
   "source": [
    "import sys"
   ]
  },
  {
   "cell_type": "code",
   "execution_count": 48,
   "id": "c3167886-dc78-4741-9245-0884b933b1a7",
   "metadata": {},
   "outputs": [],
   "source": [
    "pythonarray=[1,2,3,4,5]"
   ]
  },
  {
   "cell_type": "code",
   "execution_count": 49,
   "id": "ea9f0888-e0ec-4d05-aba6-500212f06bad",
   "metadata": {},
   "outputs": [],
   "source": [
    "numpyarray=np.array([1,2,3,4,5])"
   ]
  },
  {
   "cell_type": "code",
   "execution_count": 50,
   "id": "5ee2303a-ba10-4b84-9f64-2ae20b7ef66f",
   "metadata": {},
   "outputs": [
    {
     "data": {
      "text/plain": [
       "140"
      ]
     },
     "execution_count": 50,
     "metadata": {},
     "output_type": "execute_result"
    }
   ],
   "source": [
    "sys.getsizeof(1)*len(pythonarray)"
   ]
  },
  {
   "cell_type": "code",
   "execution_count": 51,
   "id": "978f2eae-aa2e-45ab-888b-61b5f9d9fa10",
   "metadata": {},
   "outputs": [
    {
     "data": {
      "text/plain": [
       "20"
      ]
     },
     "execution_count": 51,
     "metadata": {},
     "output_type": "execute_result"
    }
   ],
   "source": [
    "numpyarray.itemsize*numpyarray.size"
   ]
  },
  {
   "cell_type": "markdown",
   "id": "9af2709f-5f9c-4556-87fb-7905b0c44f7c",
   "metadata": {},
   "source": [
    "**CONVERTING NUMPY ARRAY TO PYTHON LIST**"
   ]
  },
  {
   "cell_type": "code",
   "execution_count": 52,
   "id": "333c8c87-9465-4451-a42a-3d7ec705d595",
   "metadata": {},
   "outputs": [
    {
     "data": {
      "text/plain": [
       "[1, 2, 3, 4, 5]"
      ]
     },
     "execution_count": 52,
     "metadata": {},
     "output_type": "execute_result"
    }
   ],
   "source": [
    "numpyarray.tolist()"
   ]
  },
  {
   "cell_type": "code",
   "execution_count": null,
   "id": "639025cc-334a-487d-8138-a313465885d2",
   "metadata": {},
   "outputs": [],
   "source": []
  }
 ],
 "metadata": {
  "kernelspec": {
   "display_name": "Python 3 (ipykernel)",
   "language": "python",
   "name": "python3"
  },
  "language_info": {
   "codemirror_mode": {
    "name": "ipython",
    "version": 3
   },
   "file_extension": ".py",
   "mimetype": "text/x-python",
   "name": "python",
   "nbconvert_exporter": "python",
   "pygments_lexer": "ipython3",
   "version": "3.11.1"
  }
 },
 "nbformat": 4,
 "nbformat_minor": 5
}
